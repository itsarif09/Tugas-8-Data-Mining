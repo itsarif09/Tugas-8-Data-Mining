{
  "cells": [
    {
      "cell_type": "code",
      "execution_count": 1,
      "metadata": {
        "id": "mhZJrx-pWurv"
      },
      "outputs": [],
      "source": [
        "from sklearn import datasets\n",
        "from sklearn.cluster import KMeans\n",
        "from sklearn.preprocessing import StandardScaler\n",
        "from scipy.spatial.distance import cdist\n",
        "import matplotlib.pyplot as plt"
      ]
    },
    {
      "cell_type": "code",
      "execution_count": 2,
      "metadata": {
        "colab": {
          "base_uri": "https://localhost:8080/",
          "height": 268
        },
        "id": "PCcCRNnDWxk5",
        "outputId": "f4611a9a-2f49-4862-994e-a9ffbb31165e"
      },
      "outputs": [
        {
          "data": {
            "image/png": "[encoded data removed]",
            "text/plain": [
              "<Figure size 432x288 with 1 Axes>"
            ]
          },
          "metadata": {
            "needs_background": "light"
          },
          "output_type": "display_data"
        }
      ],
      "source": [
        "iris = datasets.load_iris()\n",
        "features = iris.data\n",
        "plt.scatter(features[:,0], features[:,1])\n",
        "plt.show()"
      ]
    },
    {
      "cell_type": "code",
      "execution_count": 3,
      "metadata": {
        "id": "xx5fnOKaW5bh"
      },
      "outputs": [],
      "source": [
        "scaler = StandardScaler()\n",
        "features_standarrdized = scaler.fit_transform(features)"
      ]
    },
    {
      "cell_type": "code",
      "execution_count": 4,
      "metadata": {
        "colab": {
          "base_uri": "https://localhost:8080/",
          "height": 295
        },
        "id": "gqtg6AdqW8pP",
        "outputId": "3891075a-fd2c-4780-f42a-dd1c079f2701"
      },
      "outputs": [
        {
          "data": {
            "image/png": "[encoded data removed]",
            "text/plain": [
              "<Figure size 432x288 with 1 Axes>"
            ]
          },
          "metadata": {
            "needs_background": "light"
          },
          "output_type": "display_data"
        }
      ],
      "source": [
        "from sklearn.metrics import silhouette_samples,silhouette_score\n",
        "wcss = []\n",
        "for i in range (1,11):\n",
        "  kmeans = KMeans(n_clusters=i, init='k-means++',\n",
        "                  max_iter=300, n_init=10, random_state=0)\n",
        "  kmeans.fit(features)\n",
        "  wcss.append(kmeans.inertia_)\n",
        "plt.plot(range(1,11),wcss)\n",
        "plt.title('Elbow Method')\n",
        "plt.xlabel('Number of clusters')\n",
        "plt.ylabel('WCSS')\n",
        "plt.show()"
      ]
    },
    {
      "cell_type": "code",
      "execution_count": 5,
      "metadata": {
        "colab": {
          "base_uri": "https://localhost:8080/",
          "height": 268
        },
        "id": "4O1fvmcoW-zw",
        "outputId": "389cb773-a3a7-44a1-c5b1-40cb9d2247ae"
      },
      "outputs": [
        {
          "data": {
            "image/png": "[encoded data removed]",
            "text/plain": [
              "<Figure size 432x288 with 1 Axes>"
            ]
          },
          "metadata": {
            "needs_background": "light"
          },
          "output_type": "display_data"
        }
      ],
      "source": [
        "kmeans = KMeans(n_clusters=4, init='k-means++', max_iter=300,n_init=10, random_state=0)\n",
        "pred_y = kmeans.fit_predict(features)\n",
        "plt.scatter(features[:,0],features[:,1])\n",
        "plt.scatter(kmeans.cluster_centers_[:,0],\n",
        "            kmeans.cluster_centers_[:,1], s=300, c='red')\n",
        "plt.show()"
      ]
    },
    {
      "cell_type": "code",
      "execution_count": 6,
      "metadata": {
        "id": "c6WUjNhEXHRT"
      },
      "outputs": [],
      "source": [
        "# Import Library yang dibutuhkan\n",
        "import numpy as np\n",
        "from matplotlib import pyplot as plt\n",
        "from matplotlib.pyplot import cm\n",
        "import time\n",
        "import itertools"
      ]
    },
    {
      "cell_type": "code",
      "execution_count": 7,
      "metadata": {
        "id": "XAtJseBfXIxx"
      },
      "outputs": [],
      "source": [
        "# baca datset dari file\n",
        "datasetPath = \"data.txt\"\n",
        "dataset = np.loadtxt(datasetPath, delimiter = \" \")\n",
        "\n",
        "# mendefinisikan parameter kmeans klustering\n",
        "k = 2 # jumlah klaster yang diinginkan\n",
        "iterationCounter = 0 # counter untuk iterasi\n",
        "input = dataset # input data\n",
        "# fungsi untuk inisialisasi titik pusat klaster (random)\n",
        "def initCentroid(dataIn, k):\n",
        "    result = dataIn[np.random.choice(dataIn.shape[0], k, replace = False)]\n",
        "    return result"
      ]
    },
    {
      "cell_type": "code",
      "execution_count": 8,
      "metadata": {
        "id": "ZaUG4IYfXTHd"
      },
      "outputs": [],
      "source": [
        "# fungsi untuk plot hasil klaster per iterasi\n",
        "def plotClusterResult(listClusterMembers, centroid, iteration, converged):\n",
        "    n = listClusterMembers.__len__()\n",
        "    color = iter(cm.rainbow(np.linspace(0, 1, n)))\n",
        "    plt.figure(\"result\")\n",
        "    plt.clf()\n",
        "    plt.title(\"iteration-\" + iteration)\n",
        "    marker = itertools.cycle(('.', '*', '^', 'x', '+'))\n",
        "    for i in range(n):\n",
        "        col = next(color)\n",
        "        memberCluster = np.asmatrix(listClusterMembers[i])\n",
        "        plt.scatter(np.ravel(memberCluster[:, 0]), np.ravel(memberCluster[:,1]),\n",
        "                    marker=marker.__next__(), s=100, c=col, label=\"klaster-\"+str(i+1))\n",
        "    for i in range(n):\n",
        "        plt.scatter((centroid[i, 0]), (centroid[i, 1]), marker=marker.__next__(), \n",
        "                    c=col, label=\"centroid-\" + str(i+1))\n",
        "    if(converged == 0):\n",
        "        plt.legend()\n",
        "        plt.ion()\n",
        "        plt.show()\n",
        "        plt.pause(0.1)\n",
        "    if(converged == 1):\n",
        "        plt.legend()\n",
        "        plt.show(block = True)"
      ]
    },
    {
      "cell_type": "code",
      "execution_count": 9,
      "metadata": {
        "id": "4KqS3zFlXW8P"
      },
      "outputs": [],
      "source": [
        "# fungsi utama algoritma kmeans\n",
        "def kMeans(data, centroidInit):\n",
        "    nCluster = k #banyaknya klaster\n",
        "    global iterationCounter\n",
        "    centroidInit = np.matrix(centroidInit)\n",
        "    # looping hingga konvergen\n",
        "    while(True):\n",
        "        iterationCounter +=1\n",
        "        euclideanMatrixAllCluster = np.ndarray(shape=(data.shape[0],0))\n",
        "        # ulangi proses untuk semua klaster\n",
        "        for i in range (0, nCluster):\n",
        "            centroidRepeated = np.repeat(centroidInit[i,:], data.shape[0], axis=0)\n",
        "            deltaMatrix = abs(np.subtract(data, centroidRepeated))\n",
        "            # hitung jarak Eulidean\n",
        "            euclideanMatrix=np.sqrt(np.square(deltaMatrix).sum(axis=1))\n",
        "            euclideanMatrixAllCluster = \\\n",
        "                np.concatenate((euclideanMatrixAllCluster,euclideanMatrix),axis=1)\n",
        "        # tempatkan data ke klaster yang jarak Eulideannya paling dekat\n",
        "        clusterMatrix = np.ravel(np.argmin(np.matrix(euclideanMatrixAllCluster),axis=1))\n",
        "        listClusterMember = [[]for i in range(k)]\n",
        "        for i in range(0, data.shape[0]):\n",
        "            listClusterMember[np.asscalar(clusterMatrix[i])].append(data[i,:])\n",
        "        # hitung titik pusat klaster terbaru\n",
        "        newCentroid =np.ndarray(shape=(0, centroidInit.shape[1]))\n",
        "        for i in range (0, nCluster):\n",
        "            memberCluster = np.asmatrix(listClusterMember[i])\n",
        "            centroidCluster = memberCluster.mean(axis=0)\n",
        "            newCentroid = np.concatenate((newCentroid, centroidCluster), axis=0)\n",
        "        print(\"iter: \",iterationCounter)\n",
        "        print(\"centroid: \",newCentroid)\n",
        "        # break dari loop jika sudah konvergen\n",
        "        if((centroidInit == newCentroid).all()):\n",
        "            break\n",
        "        # update titik pusat klaster dengan nilai yang baru\n",
        "        centroidInit = newCentroid\n",
        "        # plot hasil klaster per iterasi\n",
        "        plotClusterResult(listClusterMember, centroidInit, str(iterationCounter),0)\n",
        "        time.sleep(1) # diberi jeda 1 detik agar hasil plot klaster nyaman dilihat\n",
        "    return listClusterMember, centroidInit"
      ]
    },
    {
      "cell_type": "code",
      "execution_count": 10,
      "metadata": {
        "colab": {
          "base_uri": "https://localhost:8080/",
          "height": 1000
        },
        "id": "3MKyp44SXnVQ",
        "outputId": "7b5a059e-ddd5-4c6c-cee7-adf581a8a964"
      },
      "outputs": [
        {
          "name": "stdout",
          "output_type": "stream",
          "text": [
            "('iter: ', 1)\n",
            "('centroid: ', matrix([[-5.13150667,  0.63287067],\n",
            "        [ 4.68504458, -1.33266627]]))\n"
          ]
        },
        {
          "ename": "AttributeError",
          "evalue": "'itertools.cycle' object has no attribute '__next__'",
          "output_type": "error",
          "traceback": [
            "\u001b[1;31m\u001b[0m",
            "\u001b[1;31mAttributeError\u001b[0mTraceback (most recent call last)",
            "\u001b[1;32m<ipython-input-10-ac7566600553>\u001b[0m in \u001b[0;36m<module>\u001b[1;34m()\u001b[0m\n\u001b[0;32m      2\u001b[0m \u001b[0mcentroidInit\u001b[0m \u001b[1;33m=\u001b[0m \u001b[0minitCentroid\u001b[0m\u001b[1;33m(\u001b[0m\u001b[0minput\u001b[0m\u001b[1;33m,\u001b[0m \u001b[0mk\u001b[0m\u001b[1;33m)\u001b[0m\u001b[1;33m\u001b[0m\u001b[0m\n\u001b[0;32m      3\u001b[0m \u001b[1;31m# panggil semua fungsi kmeans\u001b[0m\u001b[1;33m\u001b[0m\u001b[1;33m\u001b[0m\u001b[0m\n\u001b[1;32m----> 4\u001b[1;33m \u001b[0mclusterResults\u001b[0m\u001b[1;33m,\u001b[0m \u001b[0mcentroid\u001b[0m \u001b[1;33m=\u001b[0m \u001b[0mkMeans\u001b[0m\u001b[1;33m(\u001b[0m\u001b[0minput\u001b[0m\u001b[1;33m,\u001b[0m \u001b[0mcentroidInit\u001b[0m\u001b[1;33m)\u001b[0m\u001b[1;33m\u001b[0m\u001b[0m\n\u001b[0m\u001b[0;32m      5\u001b[0m \u001b[1;31m# plot hasil final klaster setelah konvergen\u001b[0m\u001b[1;33m\u001b[0m\u001b[1;33m\u001b[0m\u001b[0m\n\u001b[0;32m      6\u001b[0m \u001b[0mplotClusterResult\u001b[0m\u001b[1;33m(\u001b[0m\u001b[0mclusterResults\u001b[0m\u001b[1;33m,\u001b[0m \u001b[0mcentroid\u001b[0m\u001b[1;33m,\u001b[0m \u001b[0mstr\u001b[0m\u001b[1;33m(\u001b[0m\u001b[0miterationCounter\u001b[0m\u001b[1;33m)\u001b[0m \u001b[1;33m+\u001b[0m \u001b[1;34m\"(converged)\"\u001b[0m\u001b[1;33m,\u001b[0m \u001b[1;36m1\u001b[0m\u001b[1;33m)\u001b[0m\u001b[1;33m\u001b[0m\u001b[0m\n",
            "\u001b[1;32m<ipython-input-9-868bed8b2541>\u001b[0m in \u001b[0;36mkMeans\u001b[1;34m(data, centroidInit)\u001b[0m\n\u001b[0;32m     34\u001b[0m         \u001b[0mcentroidInit\u001b[0m \u001b[1;33m=\u001b[0m \u001b[0mnewCentroid\u001b[0m\u001b[1;33m\u001b[0m\u001b[0m\n\u001b[0;32m     35\u001b[0m         \u001b[1;31m# plot hasil klaster per iterasi\u001b[0m\u001b[1;33m\u001b[0m\u001b[1;33m\u001b[0m\u001b[0m\n\u001b[1;32m---> 36\u001b[1;33m         \u001b[0mplotClusterResult\u001b[0m\u001b[1;33m(\u001b[0m\u001b[0mlistClusterMember\u001b[0m\u001b[1;33m,\u001b[0m \u001b[0mcentroidInit\u001b[0m\u001b[1;33m,\u001b[0m \u001b[0mstr\u001b[0m\u001b[1;33m(\u001b[0m\u001b[0miterationCounter\u001b[0m\u001b[1;33m)\u001b[0m\u001b[1;33m,\u001b[0m\u001b[1;36m0\u001b[0m\u001b[1;33m)\u001b[0m\u001b[1;33m\u001b[0m\u001b[0m\n\u001b[0m\u001b[0;32m     37\u001b[0m         \u001b[0mtime\u001b[0m\u001b[1;33m.\u001b[0m\u001b[0msleep\u001b[0m\u001b[1;33m(\u001b[0m\u001b[1;36m1\u001b[0m\u001b[1;33m)\u001b[0m \u001b[1;31m# diberi jeda 1 detik agar hasil plot klaster nyaman dilihat\u001b[0m\u001b[1;33m\u001b[0m\u001b[0m\n\u001b[0;32m     38\u001b[0m     \u001b[1;32mreturn\u001b[0m \u001b[0mlistClusterMember\u001b[0m\u001b[1;33m,\u001b[0m \u001b[0mcentroidInit\u001b[0m\u001b[1;33m\u001b[0m\u001b[0m\n",
            "\u001b[1;32m<ipython-input-8-55038eb27f3a>\u001b[0m in \u001b[0;36mplotClusterResult\u001b[1;34m(listClusterMembers, centroid, iteration, converged)\u001b[0m\n\u001b[0;32m     11\u001b[0m         \u001b[0mmemberCluster\u001b[0m \u001b[1;33m=\u001b[0m \u001b[0mnp\u001b[0m\u001b[1;33m.\u001b[0m\u001b[0masmatrix\u001b[0m\u001b[1;33m(\u001b[0m\u001b[0mlistClusterMembers\u001b[0m\u001b[1;33m[\u001b[0m\u001b[0mi\u001b[0m\u001b[1;33m]\u001b[0m\u001b[1;33m)\u001b[0m\u001b[1;33m\u001b[0m\u001b[0m\n\u001b[0;32m     12\u001b[0m         plt.scatter(np.ravel(memberCluster[:, 0]), np.ravel(memberCluster[:,1]),\n\u001b[1;32m---> 13\u001b[1;33m                     marker=marker.__next__(), s=100, c=col, label=\"klaster-\"+str(i+1))\n\u001b[0m\u001b[0;32m     14\u001b[0m     \u001b[1;32mfor\u001b[0m \u001b[0mi\u001b[0m \u001b[1;32min\u001b[0m \u001b[0mrange\u001b[0m\u001b[1;33m(\u001b[0m\u001b[0mn\u001b[0m\u001b[1;33m)\u001b[0m\u001b[1;33m:\u001b[0m\u001b[1;33m\u001b[0m\u001b[0m\n\u001b[0;32m     15\u001b[0m         plt.scatter((centroid[i, 0]), (centroid[i, 1]), marker=marker.__next__(), \n",
            "\u001b[1;31mAttributeError\u001b[0m: 'itertools.cycle' object has no attribute '__next__'"
          ]
        },
        {
          "data": {
            "image/png": "[encoded data removed]",
            "text/plain": [
              "<Figure size 432x288 with 1 Axes>"
            ]
          },
          "metadata": {
            "needs_background": "light"
          },
          "output_type": "display_data"
        }
      ],
      "source": [
        "# panggil fungsi inisialisasi klaster\n",
        "centroidInit = initCentroid(input, k)\n",
        "# panggil semua fungsi kmeans\n",
        "clusterResults, centroid = kMeans(input, centroidInit)\n",
        "# plot hasil final klaster setelah konvergen\n",
        "plotClusterResult(clusterResults, centroid, str(iterationCounter) + \"(converged)\", 1)"
      ]
    },
    {
      "cell_type": "code",
      "execution_count": null,
      "metadata": {
        "id": "GSGq_iRWXyH7"
      },
      "outputs": [],
      "source": [
        "# Import Library yang akan digunakan\n",
        "import matplotlib.pyplot as plt\n",
        "import numpy as np\n",
        "import pandas as pd\n",
        "from sklearn.cluster import KMeans"
      ]
    },
    {
      "cell_type": "code",
      "execution_count": null,
      "metadata": {
        "colab": {
          "base_uri": "https://localhost:8080/"
        },
        "id": "t9heBUZAX3_U",
        "outputId": "5d7013ab-7852-4235-882b-19678a3b93d6"
      },
      "outputs": [],
      "source": [
        "# menyiapkan data dan memanggil dataset\n",
        "dataset = pd.read_csv('konsumen.csv')\n",
        "dataset.keys()"
      ]
    },
    {
      "cell_type": "code",
      "execution_count": null,
      "metadata": {
        "colab": {
          "base_uri": "https://localhost:8080/",
          "height": 206
        },
        "id": "oT75tam3X631",
        "outputId": "41a694b0-dc94-4cfe-95cd-d6e9b5be28b3"
      },
      "outputs": [],
      "source": [
        "data = pd.DataFrame(dataset)\n",
        "data.head()"
      ]
    },
    {
      "cell_type": "code",
      "execution_count": null,
      "metadata": {
        "colab": {
          "base_uri": "https://localhost:8080/"
        },
        "id": "VrMnLGsiYCqQ",
        "outputId": "5df5eefe-5130-4892-b6d7-63c0649359c1"
      },
      "outputs": [],
      "source": [
        "# Konversi dataset ke data array\n",
        "X = np.asarray(dataset)\n",
        "print(X)"
      ]
    },
    {
      "cell_type": "code",
      "execution_count": null,
      "metadata": {
        "colab": {
          "base_uri": "https://localhost:8080/",
          "height": 312
        },
        "id": "ne0AykxoYEHm",
        "outputId": "bd3719ff-5efc-49e0-c8c8-37ba88dc1b96"
      },
      "outputs": [],
      "source": [
        "# Menampilkan data array kedalam scatter plot\n",
        "plt.scatter(X[:,0], X[:,1], label='True Position')\n",
        "plt.xlabel('Gaji')\n",
        "plt.ylabel('pengeluaran')\n",
        "plt.title('grafik penyebaran data konsumen')\n",
        "plt.show"
      ]
    },
    {
      "cell_type": "code",
      "execution_count": null,
      "metadata": {
        "colab": {
          "base_uri": "https://localhost:8080/"
        },
        "id": "yBg_Nvz0YHl4",
        "outputId": "1543d707-ac7f-4ef5-ecc9-87f4ae757394"
      },
      "outputs": [],
      "source": [
        "# mengaktifkan kmeans dengan jumlah k=2\n",
        "kmeans = KMeans(n_clusters=2)\n",
        "kmeans.fit(X)"
      ]
    },
    {
      "cell_type": "code",
      "execution_count": null,
      "metadata": {
        "colab": {
          "base_uri": "https://localhost:8080/"
        },
        "id": "SwAq1wuAYKgn",
        "outputId": "3842d61e-1201-4838-d1f2-b46dd5f0c614"
      },
      "outputs": [],
      "source": [
        "# menampilkan nilai centroid yang digenerate oleh algoritma\n",
        "print(kmeans.cluster_centers_)"
      ]
    },
    {
      "cell_type": "code",
      "execution_count": null,
      "metadata": {
        "colab": {
          "base_uri": "https://localhost:8080/",
          "height": 312
        },
        "id": "e1nvacGUYNJc",
        "outputId": "c37c18af-2ac2-4115-8504-3896ef5e6ec4"
      },
      "outputs": [],
      "source": [
        "plt.scatter(X[:,0], X[:,1], c=kmeans.labels_, cmap=\"rainbow\")\n",
        "plt.xlabel('Gaji')\n",
        "plt.ylabel('pengeluaran')\n",
        "plt.title('Grafik hasil klastering data gaji dan pengeluaran konsumen')\n",
        "plt.show"
      ]
    },
    {
      "cell_type": "code",
      "execution_count": null,
      "metadata": {
        "colab": {
          "base_uri": "https://localhost:8080/",
          "height": 312
        },
        "id": "nhNmB-CWYQp5",
        "outputId": "0a488786-3de8-46a0-cc6a-aae20af41598"
      },
      "outputs": [],
      "source": [
        "plt.scatter(X[:,0], X[:,1], c=kmeans.labels_, cmap=\"rainbow\")\n",
        "plt.scatter(kmeans.cluster_centers_[:,0], kmeans.cluster_centers_[:,1], color='black')\n",
        "plt.xlabel('Gaji')\n",
        "plt.ylabel('pengeluaran')\n",
        "plt.title('Grafik hasil klastering data gaji dan pengeluaran konsumen')\n",
        "plt.show"
      ]
    }
  ],
  "metadata": {
    "colab": {
      "name": "kmeans.ipynb",
      "provenance": []
    },
    "kernelspec": {
      "display_name": "Python 3",
      "name": "python3"
    },
    "language_info": {
      "name": "python",
      "version": "2.7.18"
    }
  },
  "nbformat": 4,
  "nbformat_minor": 0
}
